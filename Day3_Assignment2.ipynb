{
 "cells": [
  {
   "cell_type": "code",
   "execution_count": 7,
   "metadata": {},
   "outputs": [
    {
     "name": "stdout",
     "output_type": "stream",
     "text": [
      "Enter Your Name:AISHWARYA w\n",
      "Enter your class:BTECH IT YEAR-3\n",
      "Enter the marks for sub1:98\n",
      "Enter the marks for sub2:97\n",
      "Enter the marks for sub3:90\n",
      "Enter the marks for sub4:89\n",
      "Enter the marks for sub5:83\n",
      "****************** PROGRESS REPORT *************************\n",
      "Name:AISHWARYA w\n",
      "Total Marks:\n",
      "457\n",
      "Average:\n",
      "91.4\n",
      "O GRADE\n",
      "*************************************************************\n"
     ]
    }
   ],
   "source": [
    "name= input(\"Enter Your Name:\")\n",
    "class_name=input(\"Enter your class:\")\n",
    "sub1 = int(input(\"Enter the marks for sub1:\"))\n",
    "sub2 = int(input(\"Enter the marks for sub2:\"))\n",
    "sub3 = int(input(\"Enter the marks for sub3:\"))\n",
    "sub4 = int(input(\"Enter the marks for sub4:\"))\n",
    "sub5 = int(input(\"Enter the marks for sub5:\"))\n",
    "total=sub1+sub2+sub3+sub4+sub5\n",
    "avg=total/5\n",
    "print(\"****************** PROGRESS REPORT *************************\")\n",
    "print(\"Name:\"+name)\n",
    "print(\"Total Marks:\")\n",
    "print(total)\n",
    "print(\"Average:\")\n",
    "print(avg)\n",
    "if(avg >= 90):\n",
    "    print(\"O GRADE\")\n",
    "elif(avg >= 80):\n",
    "    print(\"A+ GRADE\")\n",
    "elif(avg >= 70):\n",
    "    print(\"A GRADE\")\n",
    "elif(avg >= 60):\n",
    "    print(\"B+ GRADE\")\n",
    "elif(avg >= 50):\n",
    "    print(\"B GRADE\")\n",
    "elif(avg >= 40):\n",
    "    print(\" Pass\")\n",
    "else:\n",
    "    print(\"Fail\")\n",
    "print(\"*************************************************************\")"
   ]
  },
  {
   "cell_type": "code",
   "execution_count": null,
   "metadata": {},
   "outputs": [],
   "source": [
    "# PRIME NUMBERS B/W 1 & 100\n"
   ]
  },
  {
   "cell_type": "code",
   "execution_count": 9,
   "metadata": {},
   "outputs": [
    {
     "name": "stdout",
     "output_type": "stream",
     "text": [
      "PRIME NUMBERS B/W 1 & 100\n",
      "2\n",
      "3\n",
      "5\n",
      "7\n",
      "11\n",
      "13\n",
      "17\n",
      "19\n",
      "23\n",
      "29\n",
      "31\n",
      "37\n",
      "41\n",
      "43\n",
      "47\n",
      "53\n",
      "59\n",
      "61\n",
      "67\n",
      "71\n",
      "73\n",
      "79\n",
      "83\n",
      "89\n",
      "97\n"
     ]
    }
   ],
   "source": [
    "lower=1\n",
    "upper=100\n",
    "print(\"PRIME NUMBERS B/W\",lower,\"&\",upper)\n",
    "for num in range(lower,upper+1):\n",
    "    if num>1:\n",
    "        for i in range(2,num):\n",
    "            if(num % i)== 0:\n",
    "                break\n",
    "        else:\n",
    "                print(num)"
   ]
  },
  {
   "cell_type": "code",
   "execution_count": null,
   "metadata": {},
   "outputs": [],
   "source": [
    "#MULTIPLICATION TABLE USING NESTED FOR LOOP"
   ]
  },
  {
   "cell_type": "code",
   "execution_count": 19,
   "metadata": {},
   "outputs": [
    {
     "name": "stdout",
     "output_type": "stream",
     "text": [
      "MULTIPLICATION TABLE USING NESTED FOR LOOP\n",
      "****** 1 table******\n",
      "1 x 1 = 1\n",
      "1 x 2 = 2\n",
      "1 x 3 = 3\n",
      "1 x 4 = 4\n",
      "1 x 5 = 5\n",
      "1 x 6 = 6\n",
      "1 x 7 = 7\n",
      "1 x 8 = 8\n",
      "1 x 9 = 9\n",
      "1 x 10 = 10\n",
      "****** 2 table******\n",
      "2 x 1 = 2\n",
      "2 x 2 = 4\n",
      "2 x 3 = 6\n",
      "2 x 4 = 8\n",
      "2 x 5 = 10\n",
      "2 x 6 = 12\n",
      "2 x 7 = 14\n",
      "2 x 8 = 16\n",
      "2 x 9 = 18\n",
      "2 x 10 = 20\n",
      "****** 3 table******\n",
      "3 x 1 = 3\n",
      "3 x 2 = 6\n",
      "3 x 3 = 9\n",
      "3 x 4 = 12\n",
      "3 x 5 = 15\n",
      "3 x 6 = 18\n",
      "3 x 7 = 21\n",
      "3 x 8 = 24\n",
      "3 x 9 = 27\n",
      "3 x 10 = 30\n",
      "****** 4 table******\n",
      "4 x 1 = 4\n",
      "4 x 2 = 8\n",
      "4 x 3 = 12\n",
      "4 x 4 = 16\n",
      "4 x 5 = 20\n",
      "4 x 6 = 24\n",
      "4 x 7 = 28\n",
      "4 x 8 = 32\n",
      "4 x 9 = 36\n",
      "4 x 10 = 40\n",
      "****** 5 table******\n",
      "5 x 1 = 5\n",
      "5 x 2 = 10\n",
      "5 x 3 = 15\n",
      "5 x 4 = 20\n",
      "5 x 5 = 25\n",
      "5 x 6 = 30\n",
      "5 x 7 = 35\n",
      "5 x 8 = 40\n",
      "5 x 9 = 45\n",
      "5 x 10 = 50\n",
      "****** 6 table******\n",
      "6 x 1 = 6\n",
      "6 x 2 = 12\n",
      "6 x 3 = 18\n",
      "6 x 4 = 24\n",
      "6 x 5 = 30\n",
      "6 x 6 = 36\n",
      "6 x 7 = 42\n",
      "6 x 8 = 48\n",
      "6 x 9 = 54\n",
      "6 x 10 = 60\n",
      "****** 7 table******\n",
      "7 x 1 = 7\n",
      "7 x 2 = 14\n",
      "7 x 3 = 21\n",
      "7 x 4 = 28\n",
      "7 x 5 = 35\n",
      "7 x 6 = 42\n",
      "7 x 7 = 49\n",
      "7 x 8 = 56\n",
      "7 x 9 = 63\n",
      "7 x 10 = 70\n",
      "****** 8 table******\n",
      "8 x 1 = 8\n",
      "8 x 2 = 16\n",
      "8 x 3 = 24\n",
      "8 x 4 = 32\n",
      "8 x 5 = 40\n",
      "8 x 6 = 48\n",
      "8 x 7 = 56\n",
      "8 x 8 = 64\n",
      "8 x 9 = 72\n",
      "8 x 10 = 80\n",
      "****** 9 table******\n",
      "9 x 1 = 9\n",
      "9 x 2 = 18\n",
      "9 x 3 = 27\n",
      "9 x 4 = 36\n",
      "9 x 5 = 45\n",
      "9 x 6 = 54\n",
      "9 x 7 = 63\n",
      "9 x 8 = 72\n",
      "9 x 9 = 81\n",
      "9 x 10 = 90\n",
      "****** 10 table******\n",
      "10 x 1 = 10\n",
      "10 x 2 = 20\n",
      "10 x 3 = 30\n",
      "10 x 4 = 40\n",
      "10 x 5 = 50\n",
      "10 x 6 = 60\n",
      "10 x 7 = 70\n",
      "10 x 8 = 80\n",
      "10 x 9 = 90\n",
      "10 x 10 = 100\n"
     ]
    }
   ],
   "source": [
    "print(\"MULTIPLICATION TABLE USING NESTED FOR LOOP\")\n",
    "for i in range(1,11):\n",
    "    print('******',i,'table******')\n",
    "    for j in range(1,11):\n",
    "        print(i,\"x\",j,'=',i*j)\n",
    "    "
   ]
  },
  {
   "cell_type": "code",
   "execution_count": null,
   "metadata": {},
   "outputs": [],
   "source": [
    "#PRIME NUMBERS USING WHILE LOOP"
   ]
  },
  {
   "cell_type": "code",
   "execution_count": 3,
   "metadata": {},
   "outputs": [
    {
     "name": "stdout",
     "output_type": "stream",
     "text": [
      "Enter a number:50\n",
      "1 2 3 5 7 11 13 17 19 23 29 31 37 41 43 47 "
     ]
    }
   ],
   "source": [
    "num1=0\n",
    "num2=int(input(\"Enter a number:\"))\n",
    "\n",
    "\n",
    "\n",
    "while(num1<=num2):\n",
    "    count=0\n",
    "    i=2\n",
    "    \n",
    "    while(i<=num1//2):\n",
    "        if(num1%i==0):\n",
    "            count+=1\n",
    "            break\n",
    "        i=i+1\n",
    "    \n",
    "    if(count==0 and num1 !=0):\n",
    "        print(\"%d\" %num1,end=' ')\n",
    "    num1=num1+1\n",
    " \n",
    "\n",
    "    \n"
   ]
  },
  {
   "cell_type": "code",
   "execution_count": null,
   "metadata": {},
   "outputs": [],
   "source": []
  },
  {
   "cell_type": "code",
   "execution_count": null,
   "metadata": {},
   "outputs": [],
   "source": []
  }
 ],
 "metadata": {
  "kernelspec": {
   "display_name": "Python 3",
   "language": "python",
   "name": "python3"
  },
  "language_info": {
   "codemirror_mode": {
    "name": "ipython",
    "version": 3
   },
   "file_extension": ".py",
   "mimetype": "text/x-python",
   "name": "python",
   "nbconvert_exporter": "python",
   "pygments_lexer": "ipython3",
   "version": "3.8.5"
  }
 },
 "nbformat": 4,
 "nbformat_minor": 4
}
