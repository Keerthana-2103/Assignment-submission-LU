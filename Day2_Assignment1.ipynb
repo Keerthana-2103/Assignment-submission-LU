{
 "cells": [
  {
   "cell_type": "markdown",
   "metadata": {},
   "source": [
    "# DAY 2:ASSIGNMENT 1\n",
    "\n",
    "   ### STRING FUNCTIONS\n",
    "       "
   ]
  },
  {
   "cell_type": "code",
   "execution_count": 21,
   "metadata": {},
   "outputs": [
    {
     "name": "stdout",
     "output_type": "stream",
     "text": [
      "LetsUpgrade \n",
      "LETSUPGRADE OUR SKILLS\n"
     ]
    }
   ],
   "source": [
    "text=\"LetsUpgrade our Skills\"\n",
    "print(text[0:12]) \n",
    "print(text.upper())"
   ]
  },
  {
   "cell_type": "code",
   "execution_count": 16,
   "metadata": {},
   "outputs": [
    {
     "name": "stdout",
     "output_type": "stream",
     "text": [
      "Hi! Welcome to Python Programming\n"
     ]
    }
   ],
   "source": [
    "a=\"Hi! \"\n",
    "b=\"Welcome to Python Programming\"\n",
    "c=a+b\n",
    "print(c)"
   ]
  },
  {
   "cell_type": "code",
   "execution_count": 17,
   "metadata": {},
   "outputs": [
    {
     "name": "stdout",
     "output_type": "stream",
     "text": [
      "False\n"
     ]
    }
   ],
   "source": [
    "a=\"Python Programming\"\n",
    "print(a.isdigit())"
   ]
  },
  {
   "cell_type": "code",
   "execution_count": 20,
   "metadata": {},
   "outputs": [
    {
     "name": "stdout",
     "output_type": "stream",
     "text": [
      "Java Programming\n"
     ]
    }
   ],
   "source": [
    "a=\"Python Programming\"\n",
    "print(a.replace(\"Python\",\"Java\"))"
   ]
  },
  {
   "cell_type": "code",
   "execution_count": 24,
   "metadata": {},
   "outputs": [
    {
     "name": "stdout",
     "output_type": "stream",
     "text": [
      "PYTHON\n"
     ]
    }
   ],
   "source": [
    "a=\"python\"\n",
    "print(a.swapcase())"
   ]
  },
  {
   "cell_type": "code",
   "execution_count": null,
   "metadata": {},
   "outputs": [],
   "source": [
    "##LIST FUNCTIONS\n",
    " "
   ]
  },
  {
   "cell_type": "code",
   "execution_count": 25,
   "metadata": {},
   "outputs": [
    {
     "name": "stdout",
     "output_type": "stream",
     "text": [
      "[1, 2, 3, 4, 5, 6, 7, 8]\n"
     ]
    }
   ],
   "source": [
    "list1=[1,2,3,4,5,6,7,8]\n",
    "print(list1)"
   ]
  },
  {
   "cell_type": "code",
   "execution_count": 26,
   "metadata": {},
   "outputs": [
    {
     "name": "stdout",
     "output_type": "stream",
     "text": [
      "8\n"
     ]
    }
   ],
   "source": [
    "list1=[1,2,3,4,5,6,7,8]\n",
    "print(len(list1))"
   ]
  },
  {
   "cell_type": "code",
   "execution_count": 29,
   "metadata": {},
   "outputs": [
    {
     "name": "stdout",
     "output_type": "stream",
     "text": [
      "[1, 2, 3, 4, 5, 6, 7, 8, 9]\n"
     ]
    }
   ],
   "source": [
    "list1=[1,2,3,4,5,6,7,8]\n",
    "list1.append(9)    \n",
    "print(list1)"
   ]
  },
  {
   "cell_type": "code",
   "execution_count": 34,
   "metadata": {},
   "outputs": [
    {
     "name": "stdout",
     "output_type": "stream",
     "text": [
      "oranges\n"
     ]
    }
   ],
   "source": [
    "l=[\"apple\",\"mango\",\"banana\",\"oranges\"]\n",
    "print(l.pop())"
   ]
  },
  {
   "cell_type": "code",
   "execution_count": 36,
   "metadata": {},
   "outputs": [
    {
     "name": "stdout",
     "output_type": "stream",
     "text": [
      "['apple', 'mango', 'banana', 'oranges']\n"
     ]
    }
   ],
   "source": [
    "l=[\"apple\",\"mango\",\"banana\",\"oranges\"]\n",
    "l1=l.copy()\n",
    "print(l1)"
   ]
  },
  {
   "cell_type": "code",
   "execution_count": 40,
   "metadata": {},
   "outputs": [
    {
     "name": "stdout",
     "output_type": "stream",
     "text": [
      "1\n"
     ]
    }
   ],
   "source": [
    "l=[\"apple\",\"mango\",\"banana\",\"oranges\"]\n",
    "print(l.count(\"mango\"))"
   ]
  },
  {
   "cell_type": "code",
   "execution_count": 4,
   "metadata": {},
   "outputs": [
    {
     "name": "stdout",
     "output_type": "stream",
     "text": [
      "2\n"
     ]
    }
   ],
   "source": [
    "l=[\"apple\",\"mango\",\"banana\",\"oranges\",\"grapes\"]\n",
    "print(l.index(\"banana\"))"
   ]
  },
  {
   "cell_type": "code",
   "execution_count": null,
   "metadata": {},
   "outputs": [],
   "source": [
    "## Dictionary Functions"
   ]
  },
  {
   "cell_type": "code",
   "execution_count": 25,
   "metadata": {},
   "outputs": [
    {
     "name": "stdout",
     "output_type": "stream",
     "text": [
      "{'name': 'Sanju', 'age': '19', 'hobby': 'playing game'}\n",
      "3\n",
      "dict_items([('name', 'Sanju'), ('age', '19'), ('hobby', 'playing game')])\n",
      "dict_keys(['name', 'age', 'hobby'])\n",
      "{'name': 'Sanju', 'age': '19', 'hobby': 'playing game', 'color': 'blue'}\n",
      "dict_values(['Sanju', '19', 'playing game', 'blue'])\n",
      "Sanju\n"
     ]
    }
   ],
   "source": [
    "mydict={\"name\":\"Sanju\",\"age\":\"19\",\"hobby\":\"playing game\"}\n",
    "print(mydict)\n",
    "#len function\n",
    "print(len(mydict))\n",
    "#get items\n",
    "x=mydict.items()\n",
    "print(x)\n",
    "#get Keys\n",
    "y=mydict.keys()\n",
    "print(y)\n",
    "#update function\n",
    "mydict.update({\"color\":\"blue\"})\n",
    "print(mydict)\n",
    "#get values\n",
    "z=mydict.values()\n",
    "print(z)\n",
    "#get function\n",
    "a=mydict.get(\"name\")\n",
    "print(a)\n",
    "\n",
    "\n"
   ]
  },
  {
   "cell_type": "code",
   "execution_count": null,
   "metadata": {},
   "outputs": [],
   "source": []
  }
 ],
 "metadata": {
  "kernelspec": {
   "display_name": "Python 3",
   "language": "python",
   "name": "python3"
  },
  "language_info": {
   "codemirror_mode": {
    "name": "ipython",
    "version": 3
   },
   "file_extension": ".py",
   "mimetype": "text/x-python",
   "name": "python",
   "nbconvert_exporter": "python",
   "pygments_lexer": "ipython3",
   "version": "3.8.5"
  }
 },
 "nbformat": 4,
 "nbformat_minor": 4
}
